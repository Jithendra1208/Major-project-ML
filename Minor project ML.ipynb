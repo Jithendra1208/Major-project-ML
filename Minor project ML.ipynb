Data Normalization And Standardization
In [1]:
#import the necessary libraries
import pandas as pd
import numpy as np
from sklearn.impute import SimpleImpute
from sklearn.preprocessing import StandardScaler,MinMaxScaler
In [2]:
#load the data into a DataFrame by reading the dataset.csv file
dataframe=pd.read_csv("dataset.csv")
In [3]:
#now print the data to check how it looks
print(dataframe)
     CUSTOMER_ID      BALANCE  FREQUENCY_OF_BALANCE  PURCHASES  ONEOFF_PURCHASES  \
0     C10001    40.900749           0.818182      95.40              0.00   
1     C10002  3202.467416           0.909091       0.00              0.00   
2     C10003  2495.148862           1.000000     773.17            773.17   
3     C10004  1666.670542           0.636364    1499.00           1499.00   
4     C10005   817.714335           1.000000      16.00             16.00   
...      ...          ...                ...        ...               ...   
8945  C19186    28.493517           1.000000     291.12              0.00   
8946  C19187    19.183215           1.000000     300.00              0.00   
8947  C19188    23.398673           0.833333     144.40              0.00   
8948  C19189    13.457564           0.833333       0.00              0.00   
8949  C19190   372.708075           0.666667    1093.25           1093.25   

      INSTALLMENTS_PURCHASES  CASH_ADVANCE  FREQUENCY_OF_PURCHASES  \
0                      95.40      0.000000             0.166667   
1                       0.00   6442.945483             0.000000   
2                       0.00      0.000000             1.000000   
3                       0.00    205.788017             0.083333   
4                       0.00      0.000000             0.083333   
...                      ...           ...                  ...   
8945                  291.12      0.000000             1.000000   
8946                  300.00      0.000000             1.000000   
8947                  144.40      0.000000             0.833333   
8948                    0.00     36.558778             0.000000   
8949                    0.00    127.040008             0.666667   

      ONEOFF_FREQUENCY_OF_PURCHASES  FREQUENCY_OF_PURCHASES_INSTALLMENTS  \
0                       0.000000                          0.083333   
1                       0.000000                          0.000000   
2                       1.000000                          0.000000   
3                       0.083333                          0.000000   
4                       0.083333                          0.000000   
...                          ...                               ...   
8945                    0.000000                          0.833333   
8946                    0.000000                          0.833333   
8947                    0.000000                          0.666667   
8948                    0.000000                          0.000000   
8949                    0.666667                          0.000000   

      CASH_ADVANCE_FREQUENCY  CASH_ADVANCE_TRX  PURCHASES_TRX  CREDIT_LIMIT  \
0                   0.000000                 0              2        1000.0   
1                   0.250000                 4              0        7000.0   
2                   0.000000                 0             12        7500.0   
3                   0.083333                 1              1        7500.0   
4                   0.000000                 0              1        1200.0   
...                      ...               ...            ...           ...   
8945                0.000000                 0              6        1000.0   
8946                0.000000                 0              6        1000.0   
8947                0.000000                 0              5        1000.0   
8948                0.166667                 2              0         500.0   
8949                0.333333                 2             23        1200.0   

         PAYMENTS  MINIMUM_PAYMENTS  PRC_FULL_PAYMENT  TENURE  
0      201.802084        139.509787          0.000000      12  
1     4103.032597       1072.340217          0.222222      12  
2      622.066742        627.284787          0.000000      12  
3        0.000000               NaN          0.000000      12  
4      678.334763        244.791237          0.000000      12  
...           ...               ...               ...     ...  
8945   325.594462         48.886365          0.500000       6  
8946   275.861322               NaN          0.000000       6  
8947    81.270775         82.418369          0.250000       6  
8948    52.549959         55.755628          0.250000       6  
8949    63.165404         88.288956          0.000000       6  

[8950 rows x 18 columns]
In [4]:
#check if any NULL values are present in given data
print(dataframe.isnull().sum())
CUSTOMER_ID                               0
BALANCE                               0
FREQUENCY_OF_BALANCE                     0
PURCHASES                             0
ONEOFF_PURCHASES                      0
INSTALLMENTS_PURCHASES                0
CASH_ADVANCE                          0
FREQUENCY_OF_PURCHASES                   0
ONEOFF_FREQUENCY_OF_PURCHASES            0
FREQUENCY_OF_PURCHASES_INSTALLMENTS      0
CASH_ADVANCE_FREQUENCY                0
CASH_ADVANCE_TRX                      0
PURCHASES_TRX                         0
CREDIT_LIMIT                          1
PAYMENTS                              0
MINIMUM_PAYMENTS                    313
PRC_FULL_PAYMENT                      0
TENURE                                0
dtype: int64
In [5]:
#handling NULL values
imputer=SimpleImpute(missing_values=np.nan, strategy="mean") # filling the NAN values with mean of the elements of the column
imputer.fit(dataframe.iloc[:,1:]) # fitting the size of the imputer 
dataframe.iloc[:,1:]=imputer.transform(dataframe.iloc[:,1:]) # transforming the NAN values and updating the dataframe
In [6]:
#now print the data 
print(dataframe)
     CUSTOMER_ID      BALANCE  FREQUENCY_OF_BALANCE  PURCHASES  ONEOFF_PURCHASES  \
0     C10001    40.900749           0.818182      95.40              0.00   
1     C10002  3202.467416           0.909091       0.00              0.00   
2     C10003  2495.148862           1.000000     773.17            773.17   
3     C10004  1666.670542           0.636364    1499.00           1499.00   
4     C10005   817.714335           1.000000      16.00             16.00   
...      ...          ...                ...        ...               ...   
8945  C19186    28.493517           1.000000     291.12              0.00   
8946  C19187    19.183215           1.000000     300.00              0.00   
8947  C19188    23.398673           0.833333     144.40              0.00   
8948  C19189    13.457564           0.833333       0.00              0.00   
8949  C19190   372.708075           0.666667    1093.25           1093.25   

      INSTALLMENTS_PURCHASES  CASH_ADVANCE  FREQUENCY_OF_PURCHASES  \
0                      95.40      0.000000             0.166667   
1                       0.00   6442.945483             0.000000   
2                       0.00      0.000000             1.000000   
3                       0.00    205.788017             0.083333   
4                       0.00      0.000000             0.083333   
...                      ...           ...                  ...   
8945                  291.12      0.000000             1.000000   
8946                  300.00      0.000000             1.000000   
8947                  144.40      0.000000             0.833333   
8948                    0.00     36.558778             0.000000   
8949                    0.00    127.040008             0.666667   

      ONEOFF_FREQUENCY_OF_PURCHASES  FREQUENCY_OF_PURCHASES_INSTALLMENTS  \
0                       0.000000                          0.083333   
1                       0.000000                          0.000000   
2                       1.000000                          0.000000   
3                       0.083333                          0.000000   
4                       0.083333                          0.000000   
...                          ...                               ...   
8945                    0.000000                          0.833333   
8946                    0.000000                          0.833333   
8947                    0.000000                          0.666667   
8948                    0.000000                          0.000000   
8949                    0.666667                          0.000000   

      CASH_ADVANCE_FREQUENCY  CASH_ADVANCE_TRX  PURCHASES_TRX  CREDIT_LIMIT  \
0                   0.000000               0.0            2.0        1000.0   
1                   0.250000               4.0            0.0        7000.0   
2                   0.000000               0.0           12.0        7500.0   
3                   0.083333               1.0            1.0        7500.0   
4                   0.000000               0.0            1.0        1200.0   
...                      ...               ...            ...           ...   
8945                0.000000               0.0            6.0        1000.0   
8946                0.000000               0.0            6.0        1000.0   
8947                0.000000               0.0            5.0        1000.0   
8948                0.166667               2.0            0.0         500.0   
8949                0.333333               2.0           23.0        1200.0   

         PAYMENTS  MINIMUM_PAYMENTS  PRC_FULL_PAYMENT  TENURE  
0      201.802084        139.509787          0.000000    12.0  
1     4103.032597       1072.340217          0.222222    12.0  
2      622.066742        627.284787          0.000000    12.0  
3        0.000000        864.206542          0.000000    12.0  
4      678.334763        244.791237          0.000000    12.0  
...           ...               ...               ...     ...  
8945   325.594462         48.886365          0.500000     6.0  
8946   275.861322        864.206542          0.000000     6.0  
8947    81.270775         82.418369          0.250000     6.0  
8948    52.549959         55.755628          0.250000     6.0  
8949    63.165404         88.288956          0.000000     6.0  

[8950 rows x 18 columns]
In [7]:
#check if any duplicate rows are present in the dataframe
duplicates=dataframe[dataframe.duplicated()]
print(duplicates)
Empty DataFrame
Columns: [CUSTOMER_ID, BALANCE, FREQUENCY_OF_BALANCE, PURCHASES, ONEOFF_PURCHASES, INSTALLMENTS_PURCHASES, CASH_ADVANCE, FREQUENCY_OF_PURCHASES, ONEOFF_FREQUENCY_OF_PURCHASES, FREQUENCY_OF_PURCHASES_INSTALLMENTS, CASH_ADVANCE_FREQUENCY, CASH_ADVANCE_TRX, PURCHASES_TRX, CREDIT_LIMIT, PAYMENTS, MINIMUM_PAYMENTS, PRC_FULL_PAYMENT, TENURE]
Index: []
In [8]:
#as the given dataframe is not containing any duplicates go for feature scaling
#Feature scaling ,scaling the above numeric data columns using Standardization and Normalization
#Standardization
df=dataframe.iloc[:,1:] # loading the Numeric data columns into df
stdscale=StandardScaler() # taking the instance of StandardScaler
stddata=stdscale.fit_transform(df) #fitting the transformed standard data
In [9]:
#print the Standardized Data
print('Standardized Data')
print('\n')
print(stddata)
Standardized Data


[[-0.73198937 -0.24943448 -0.42489974 ... -0.31096755 -0.52555097
   0.36067954]
 [ 0.78696085  0.13432467 -0.46955188 ...  0.08931021  0.2342269
   0.36067954]
 [ 0.44713513  0.51808382 -0.10766823 ... -0.10166318 -0.52555097
   0.36067954]
 ...
 [-0.7403981  -0.18547673 -0.40196519 ... -0.33546549  0.32919999
  -4.12276757]
 [-0.74517423 -0.18547673 -0.46955188 ... -0.34690648  0.32919999
  -4.12276757]
 [-0.57257511 -0.88903307  0.04214581 ... -0.33294642 -0.52555097
  -4.12276757]]
In [10]:
#Normalization
df=dataframe.iloc[:,1:] # loading the Numeric data columns into df
normscale=MinMaxScaler() # taking the instance of MinMaxScaler
normdata=normscale.fit_transform(df) #fitting the transformed normalized data
In [11]:
#print the Normalized Data
print("Normalized Data")
print('\n')
print(normdata)
Normalized Data


[[2.14779454e-03 8.18182000e-01 1.94536779e-03 ... 1.82564563e-03
  0.00000000e+00 1.00000000e+00]
 [1.68169097e-01 9.09091000e-01 0.00000000e+00 ... 1.40344791e-02
  2.22222000e-01 1.00000000e+00]
 [1.31026136e-01 1.00000000e+00 1.57662475e-02 ... 8.20961806e-03
  0.00000000e+00 1.00000000e+00]
 ...
 [1.22871936e-03 8.33333000e-01 2.94456089e-03 ... 1.07843629e-03
  2.50000000e-01 0.00000000e+00]
 [7.06688341e-04 8.33333000e-01 0.00000000e+00 ... 7.29475795e-04
  2.50000000e-01 0.00000000e+00]
 [1.95717777e-02 6.66667000e-01 2.22932216e-02 ... 1.15527021e-03
  0.00000000e+00 0.00000000e+00]]
